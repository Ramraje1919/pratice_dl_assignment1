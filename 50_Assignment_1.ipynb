{
  "nbformat": 4,
  "nbformat_minor": 0,
  "metadata": {
    "colab": {
      "provenance": []
    },
    "kernelspec": {
      "name": "python3",
      "display_name": "Python 3"
    },
    "language_info": {
      "name": "python"
    }
  },
  "cells": [
    {
      "cell_type": "code",
      "execution_count": 3,
      "metadata": {
        "colab": {
          "base_uri": "https://localhost:8080/"
        },
        "id": "A7Pyi6WjpHgY",
        "outputId": "72ad06bc-8acf-40ec-a77e-dd73f6ef3689"
      },
      "outputs": [
        {
          "output_type": "stream",
          "name": "stdout",
          "text": [
            "     lesion_id      image_id   dx dx_type   age   sex localization\n",
            "0  HAM_0000118  ISIC_0027419  bkl   histo  80.0  male        scalp\n",
            "1  HAM_0000118  ISIC_0025030  bkl   histo  80.0  male        scalp\n",
            "2  HAM_0002730  ISIC_0026769  bkl   histo  80.0  male        scalp\n",
            "3  HAM_0002730  ISIC_0025661  bkl   histo  80.0  male        scalp\n",
            "4  HAM_0001466  ISIC_0031633  bkl   histo  75.0  male          ear\n"
          ]
        }
      ],
      "source": [
        "import pandas as pd\n",
        "\n",
        "# Load the uploaded dataset\n",
        "data = pd.read_csv('/content/HAM10000_metadata.csv')\n",
        "\n",
        "# Display the first few rows of the dataset to understand its structure\n",
        "print(data.head())  # Use print() to display rows in standard output\n"
      ]
    },
    {
      "cell_type": "code",
      "source": [
        "import numpy as np\n",
        "import pandas as pd\n",
        "from sklearn.model_selection import train_test_split\n",
        "from sklearn.preprocessing import OneHotEncoder, StandardScaler\n",
        "\n",
        "# Load the dataset\n",
        "data = pd.read_csv('/content/HAM10000_metadata.csv')\n",
        "\n",
        "# Preprocessing\n",
        "# Exclude 'lesion_id' and 'image_id' columns from features\n",
        "X = data[['age', 'sex', 'localization']].values  # Numerical and categorical features\n",
        "y = data.iloc[:, -1].values   # Target (dx)\n",
        "\n",
        "# Convert categorical features to numerical using OneHotEncoder\n",
        "encoder_features = OneHotEncoder(sparse_output=False, handle_unknown='ignore')\n",
        "X = encoder_features.fit_transform(X)\n",
        "\n",
        "# Encode target labels to one-hot format\n",
        "encoder_target = OneHotEncoder(sparse_output=False, handle_unknown='ignore')\n",
        "y = encoder_target.fit_transform(y.reshape(-1, 1))\n",
        "\n",
        "# Standardize the numerical features (now represented within the OneHotEncoded X)\n",
        "scaler = StandardScaler()\n",
        "X = scaler.fit_transform(X)\n",
        "\n",
        "# Split the dataset into training and testing sets\n",
        "X_train, X_test, y_train, y_test = train_test_split(X, y, test_size=0.2, random_state=42)\n",
        "\n",
        "# Define the Neural Network Architecture\n",
        "input_size = X.shape[1]  # Number of input features\n",
        "hidden_size = 5          # Number of neurons in the hidden layer\n",
        "output_size = y.shape[1] # Number of output classes (dx)\n",
        "\n",
        "# Initialize weights and biases\n",
        "np.random.seed(42)\n",
        "weights_input_hidden = np.random.randn(input_size, hidden_size)\n",
        "bias_hidden = np.zeros((1, hidden_size))\n",
        "weights_hidden_output = np.random.randn(hidden_size, output_size)\n",
        "bias_output = np.zeros((1, output_size))\n",
        "\n",
        "# Activation functions\n",
        "def sigmoid(x):\n",
        "    return 1 / (1 + np.exp(-x))\n",
        "\n",
        "def sigmoid_derivative(x):\n",
        "    return x * (1 - x)\n",
        "\n",
        "def softmax(x):\n",
        "    exp_values = np.exp(x - np.max(x, axis=1, keepdims=True))\n",
        "    return exp_values / np.sum(exp_values, axis=1, keepdims=True)\n",
        "\n",
        "# Loss function\n",
        "def cross_entropy_loss(y_true, y_pred):\n",
        "    return -np.mean(np.sum(y_true * np.log(y_pred + 1e-9), axis=1))\n",
        "\n",
        "# Forward pass\n",
        "def forward_pass(X):\n",
        "    hidden_input = np.dot(X, weights_input_hidden) + bias_hidden\n",
        "    hidden_output = sigmoid(hidden_input)\n",
        "\n",
        "    output_input = np.dot(hidden_output, weights_hidden_output) + bias_output\n",
        "    output_output = softmax(output_input)\n",
        "\n",
        "    return hidden_output, output_output\n",
        "\n",
        "# Backpropagation\n",
        "def backward_pass(X, y, hidden_output, output_output, learning_rate):\n",
        "    global weights_input_hidden, bias_hidden, weights_hidden_output, bias_output\n",
        "\n",
        "    # Output layer error\n",
        "    output_error = output_output - y\n",
        "    output_gradient = np.dot(hidden_output.T, output_error)\n",
        "\n",
        "    # Hidden layer error\n",
        "    hidden_error = np.dot(output_error, weights_hidden_output.T) * sigmoid_derivative(hidden_output)\n",
        "    hidden_gradient = np.dot(X.T, hidden_error)\n",
        "\n",
        "    # Update weights and biases\n",
        "    weights_hidden_output -= learning_rate * output_gradient\n",
        "    bias_output -= learning_rate * np.sum(output_error, axis=0, keepdims=True)\n",
        "    weights_input_hidden -= learning_rate * hidden_gradient\n",
        "    bias_hidden -= learning_rate * np.sum(hidden_error, axis=0, keepdims=True)\n",
        "\n",
        "# Training the Neural Network\n",
        "epochs = 1000\n",
        "learning_rate = 0.001\n",
        "\n",
        "for epoch in range(epochs):\n",
        "    # Forward pass\n",
        "    hidden_output, output_output = forward_pass(X_train)\n",
        "\n",
        "    # Compute loss\n",
        "    loss = cross_entropy_loss(y_train, output_output)\n",
        "\n",
        "    # Backward pass\n",
        "    backward_pass(X_train, y_train, hidden_output, output_output, learning_rate)\n",
        "\n",
        "    if epoch % 100 == 0:\n",
        "        print(f\"Epoch {epoch}, Loss: {loss:.4f}\")\n",
        "\n",
        "# Testing the Model\n",
        "_, y_pred = forward_pass(X_test)\n",
        "y_pred_classes = np.argmax(y_pred, axis=1)\n",
        "y_true_classes = np.argmax(y_test, axis=1)\n",
        "\n",
        "accuracy = np.mean(y_pred_classes == y_true_classes)\n",
        "print(f\"Test Accuracy: {accuracy * 100:.2f}%\")"
      ],
      "metadata": {
        "colab": {
          "base_uri": "https://localhost:8080/"
        },
        "id": "nEeYcbxExPCz",
        "outputId": "ddd41370-f1eb-4500-c74f-6f40e858d534"
      },
      "execution_count": 6,
      "outputs": [
        {
          "output_type": "stream",
          "name": "stdout",
          "text": [
            "Epoch 0, Loss: 3.3157\n",
            "Epoch 100, Loss: 0.0948\n",
            "Epoch 200, Loss: 0.0500\n",
            "Epoch 300, Loss: 0.0360\n",
            "Epoch 400, Loss: 0.0296\n",
            "Epoch 500, Loss: 0.0256\n",
            "Epoch 600, Loss: 0.0232\n",
            "Epoch 700, Loss: 0.0212\n",
            "Epoch 800, Loss: 0.0194\n",
            "Epoch 900, Loss: 0.0189\n",
            "Test Accuracy: 99.80%\n"
          ]
        }
      ]
    },
    {
      "cell_type": "code",
      "source": [],
      "metadata": {
        "id": "r2wirM09y1HX"
      },
      "execution_count": null,
      "outputs": []
    }
  ]
}